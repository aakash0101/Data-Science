{
 "cells": [
  {
   "cell_type": "code",
   "execution_count": 94,
   "id": "9a524d06",
   "metadata": {},
   "outputs": [],
   "source": [
    "import re\n",
    "import pandas as pd\n"
   ]
  },
  {
   "cell_type": "code",
   "execution_count": 95,
   "id": "338db28f",
   "metadata": {},
   "outputs": [
    {
     "name": "stdout",
     "output_type": "stream",
     "text": [
      "Python:Exercises::PHP:exercises:\n"
     ]
    }
   ],
   "source": [
    "sample_text = 'Python Exercises, PHP exercises.'\n",
    "result = re.sub(r'[ ,.]', ':', sample_text)\n",
    "print(result)"
   ]
  },
  {
   "cell_type": "code",
   "execution_count": 96,
   "id": "398ae228",
   "metadata": {},
   "outputs": [
    {
     "name": "stdout",
     "output_type": "stream",
     "text": [
      "       SUMMARY\n",
      "0   helloworld\n",
      "1         test\n",
      "2  fourfivesix\n"
     ]
    }
   ],
   "source": [
    "dictionary = {'SUMMARY': ['hello, world!', 'XXXXX test', '123four, five:; six...']}\n",
    "\n",
    "df = pd.DataFrame(dictionary)\n",
    "\n",
    "def remove_everything(string):\n",
    "    clean_data = re.sub(r'[^a-zA-Z]', '', string)\n",
    "    clean_data = clean_data.replace('XXXXX', '')\n",
    "    return clean_data\n",
    "\n",
    "df['SUMMARY'] = df['SUMMARY'].apply(remove_everything)\n",
    "print(df)"
   ]
  },
  {
   "cell_type": "code",
   "execution_count": 97,
   "id": "eb3afa78",
   "metadata": {},
   "outputs": [
    {
     "name": "stdout",
     "output_type": "stream",
     "text": [
      "['Aakash', 'doing', 'intership', 'with', 'FlipRobo']\n"
     ]
    }
   ],
   "source": [
    "def find_Allwords(string):\n",
    "    pattern = re.compile(r'\\b\\w{4,}\\b') # with min length of 4\n",
    "    words = pattern.findall(string)\n",
    "    return words\n",
    "\n",
    "string = \"Hi Aakash is doing intership with FlipRobo.\"\n",
    "result = find_Allwords(string)\n",
    "print(result)\n"
   ]
  },
  {
   "cell_type": "code",
   "execution_count": 98,
   "id": "a57f76ee",
   "metadata": {},
   "outputs": [
    {
     "name": "stdout",
     "output_type": "stream",
     "text": [
      "['doing', 'with', 'and', 'with', 'data']\n"
     ]
    }
   ],
   "source": [
    "def find_Allwords_agian(string):\n",
    "    pattern = re.compile(r'\\b\\w{3,5}\\b') #with some specific length\n",
    "    words = pattern.findall(string)\n",
    "    return words\n",
    "\n",
    "string = \"Hi Aakash is doing intership with FlipRobo and training with data trained.\"\n",
    "result = find_Allwords_agian(string)\n",
    "print(result)\n"
   ]
  },
  {
   "cell_type": "code",
   "execution_count": 99,
   "id": "ff9981e3",
   "metadata": {},
   "outputs": [
    {
     "name": "stdout",
     "output_type": "stream",
     "text": [
      "['example .com', 'hr@fliprobo .com', 'github .com', 'Hello Data Science World', 'Data Scientist']\n"
     ]
    }
   ],
   "source": [
    "def remove_parenthesis(strings):\n",
    "    pattern = re.compile(r'[\\(\\)]')\n",
    "    result = [pattern.sub('', s) for s in strings]\n",
    "    return result\n",
    "\n",
    "sample_text = [\"example (.com)\", \"hr@fliprobo (.com)\", \"github (.com)\", \"Hello (Data Science World)\", \"Data (Scientist)\"]\n",
    "output = remove_parenthesis(sample_text)\n",
    "print(output)\n"
   ]
  },
  {
   "cell_type": "code",
   "execution_count": 100,
   "id": "6e247f7e",
   "metadata": {},
   "outputs": [
    {
     "name": "stdout",
     "output_type": "stream",
     "text": [
      "['example ', 'hr@fliprobo ', 'github ', 'Hello ', 'Data ']\n"
     ]
    }
   ],
   "source": [
    "def remove_parenthesis_fromTextFile(string):\n",
    "    pattern = re.compile(r'\\([^)]*\\)')\n",
    "    result = [pattern.sub('', s) for s in string]\n",
    "    return result\n",
    "\n",
    "with open('sample.txt', 'r') as file:\n",
    "    text = file.read()\n",
    "\n",
    "text = eval(text)\n",
    "\n",
    "output = remove_parenthesis_fromTextFile(text)\n",
    "print(output)"
   ]
  },
  {
   "cell_type": "code",
   "execution_count": 101,
   "id": "e11be731",
   "metadata": {},
   "outputs": [
    {
     "name": "stdout",
     "output_type": "stream",
     "text": [
      "['Importance', 'Of', 'Regular', 'Expressions', 'In', 'Python']\n"
     ]
    }
   ],
   "source": [
    "string = \"ImportanceOfRegularExpressionsInPython\"\n",
    "result = re.findall(r'[A-Z][a-z]*', string)\n",
    "print(result)"
   ]
  },
  {
   "cell_type": "code",
   "execution_count": 102,
   "id": "2c8a5d7e",
   "metadata": {},
   "outputs": [
    {
     "name": "stdout",
     "output_type": "stream",
     "text": [
      "RegularExpression 1IsAn 2ImportantTopic 3InPython\n"
     ]
    }
   ],
   "source": [
    "def split_string_from_Numbers(text):\n",
    "    pattern = re.compile(r'(?<=[a-zA-Z])(\\d)')\n",
    "    result = pattern.sub(r' \\1', text)\n",
    "    return result\n",
    "\n",
    "text = \"RegularExpression1IsAn2ImportantTopic3InPython\"\n",
    "output = split_string_from_Numbers(text)\n",
    "print(output)\n"
   ]
  },
  {
   "cell_type": "code",
   "execution_count": 103,
   "id": "e7b06c92",
   "metadata": {},
   "outputs": [
    {
     "name": "stdout",
     "output_type": "stream",
     "text": [
      "Regular Expression 1 Is An 2 Important Topic 3 In Python\n"
     ]
    }
   ],
   "source": [
    "def insert_spaces_between_capital_or_numbers(string):\n",
    "    pattern = re.compile(r'(?<=[a-zA-Z0-9])([A-Z0-9])')\n",
    "    result = pattern.sub(r' \\1', string)\n",
    "    return result\n",
    "\n",
    "string = \"RegularExpression1IsAn2ImportantTopic3InPython\"\n",
    "output = insert_spaces_between_capital_or_numbers(string)\n",
    "print(output)\n"
   ]
  },
  {
   "cell_type": "code",
   "execution_count": 104,
   "id": "65e00d84",
   "metadata": {},
   "outputs": [
    {
     "data": {
      "text/html": [
       "<div>\n",
       "<style scoped>\n",
       "    .dataframe tbody tr th:only-of-type {\n",
       "        vertical-align: middle;\n",
       "    }\n",
       "\n",
       "    .dataframe tbody tr th {\n",
       "        vertical-align: top;\n",
       "    }\n",
       "\n",
       "    .dataframe thead th {\n",
       "        text-align: right;\n",
       "    }\n",
       "</style>\n",
       "<table border=\"1\" class=\"dataframe\">\n",
       "  <thead>\n",
       "    <tr style=\"text-align: right;\">\n",
       "      <th></th>\n",
       "      <th>Country</th>\n",
       "      <th>Region</th>\n",
       "      <th>Happiness Rank</th>\n",
       "      <th>Happiness Score</th>\n",
       "      <th>Standard Error</th>\n",
       "      <th>Economy (GDP per Capita)</th>\n",
       "      <th>Family</th>\n",
       "      <th>Health (Life Expectancy)</th>\n",
       "      <th>Freedom</th>\n",
       "      <th>Trust (Government Corruption)</th>\n",
       "      <th>Generosity</th>\n",
       "      <th>Dystopia Residual</th>\n",
       "      <th>first_five_letters</th>\n",
       "    </tr>\n",
       "  </thead>\n",
       "  <tbody>\n",
       "    <tr>\n",
       "      <th>0</th>\n",
       "      <td>Switzerland</td>\n",
       "      <td>Western Europe</td>\n",
       "      <td>1</td>\n",
       "      <td>7.587</td>\n",
       "      <td>0.03411</td>\n",
       "      <td>1.39651</td>\n",
       "      <td>1.34951</td>\n",
       "      <td>0.94143</td>\n",
       "      <td>0.66557</td>\n",
       "      <td>0.41978</td>\n",
       "      <td>0.29678</td>\n",
       "      <td>2.51738</td>\n",
       "      <td>Switze</td>\n",
       "    </tr>\n",
       "    <tr>\n",
       "      <th>1</th>\n",
       "      <td>Iceland</td>\n",
       "      <td>Western Europe</td>\n",
       "      <td>2</td>\n",
       "      <td>7.561</td>\n",
       "      <td>0.04884</td>\n",
       "      <td>1.30232</td>\n",
       "      <td>1.40223</td>\n",
       "      <td>0.94784</td>\n",
       "      <td>0.62877</td>\n",
       "      <td>0.14145</td>\n",
       "      <td>0.43630</td>\n",
       "      <td>2.70201</td>\n",
       "      <td>Icelan</td>\n",
       "    </tr>\n",
       "    <tr>\n",
       "      <th>2</th>\n",
       "      <td>Denmark</td>\n",
       "      <td>Western Europe</td>\n",
       "      <td>3</td>\n",
       "      <td>7.527</td>\n",
       "      <td>0.03328</td>\n",
       "      <td>1.32548</td>\n",
       "      <td>1.36058</td>\n",
       "      <td>0.87464</td>\n",
       "      <td>0.64938</td>\n",
       "      <td>0.48357</td>\n",
       "      <td>0.34139</td>\n",
       "      <td>2.49204</td>\n",
       "      <td>Denmar</td>\n",
       "    </tr>\n",
       "    <tr>\n",
       "      <th>3</th>\n",
       "      <td>Norway</td>\n",
       "      <td>Western Europe</td>\n",
       "      <td>4</td>\n",
       "      <td>7.522</td>\n",
       "      <td>0.03880</td>\n",
       "      <td>1.45900</td>\n",
       "      <td>1.33095</td>\n",
       "      <td>0.88521</td>\n",
       "      <td>0.66973</td>\n",
       "      <td>0.36503</td>\n",
       "      <td>0.34699</td>\n",
       "      <td>2.46531</td>\n",
       "      <td>Norway</td>\n",
       "    </tr>\n",
       "    <tr>\n",
       "      <th>4</th>\n",
       "      <td>Canada</td>\n",
       "      <td>North America</td>\n",
       "      <td>5</td>\n",
       "      <td>7.427</td>\n",
       "      <td>0.03553</td>\n",
       "      <td>1.32629</td>\n",
       "      <td>1.32261</td>\n",
       "      <td>0.90563</td>\n",
       "      <td>0.63297</td>\n",
       "      <td>0.32957</td>\n",
       "      <td>0.45811</td>\n",
       "      <td>2.45176</td>\n",
       "      <td>Canada</td>\n",
       "    </tr>\n",
       "  </tbody>\n",
       "</table>\n",
       "</div>"
      ],
      "text/plain": [
       "       Country          Region  Happiness Rank  Happiness Score  \\\n",
       "0  Switzerland  Western Europe               1            7.587   \n",
       "1      Iceland  Western Europe               2            7.561   \n",
       "2      Denmark  Western Europe               3            7.527   \n",
       "3       Norway  Western Europe               4            7.522   \n",
       "4       Canada   North America               5            7.427   \n",
       "\n",
       "   Standard Error  Economy (GDP per Capita)   Family  \\\n",
       "0         0.03411                   1.39651  1.34951   \n",
       "1         0.04884                   1.30232  1.40223   \n",
       "2         0.03328                   1.32548  1.36058   \n",
       "3         0.03880                   1.45900  1.33095   \n",
       "4         0.03553                   1.32629  1.32261   \n",
       "\n",
       "   Health (Life Expectancy)  Freedom  Trust (Government Corruption)  \\\n",
       "0                   0.94143  0.66557                        0.41978   \n",
       "1                   0.94784  0.62877                        0.14145   \n",
       "2                   0.87464  0.64938                        0.48357   \n",
       "3                   0.88521  0.66973                        0.36503   \n",
       "4                   0.90563  0.63297                        0.32957   \n",
       "\n",
       "   Generosity  Dystopia Residual first_five_letters  \n",
       "0     0.29678            2.51738             Switze  \n",
       "1     0.43630            2.70201             Icelan  \n",
       "2     0.34139            2.49204             Denmar  \n",
       "3     0.34699            2.46531             Norway  \n",
       "4     0.45811            2.45176             Canada  "
      ]
     },
     "execution_count": 104,
     "metadata": {},
     "output_type": "execute_result"
    }
   ],
   "source": [
    "df = pd.read_csv(\"https://raw.githubusercontent.com/dsrscientist/DSData/master/happiness_score_dataset.csv\")\n",
    "\n",
    "df['first_five_letters'] = df['Country'].str[:6]\n",
    "\n",
    "df.head()"
   ]
  },
  {
   "cell_type": "code",
   "execution_count": 105,
   "id": "9e4249e2",
   "metadata": {},
   "outputs": [
    {
     "name": "stdout",
     "output_type": "stream",
     "text": [
      "True\n",
      "False\n"
     ]
    }
   ],
   "source": [
    "#true Scenario\n",
    "string = \"Valid_String_123\"\n",
    "result = re.match(r'^[A-Za-z0-9_]+$', string) is not None\n",
    "print(result)\n",
    "\n",
    "#false scenario\n",
    "string = \"@@@@\"\n",
    "result = re.match(r'^[A-Za-z0-9_]+$', string) is not None\n",
    "print(result)"
   ]
  },
  {
   "cell_type": "code",
   "execution_count": 106,
   "id": "faeffc20",
   "metadata": {},
   "outputs": [
    {
     "name": "stdout",
     "output_type": "stream",
     "text": [
      "True\n",
      "False\n"
     ]
    }
   ],
   "source": [
    "#true scenario\n",
    "string = \"12 is the answer.\"\n",
    "number = 12\n",
    "result = re.match(r'^' + str(number), string) is not None\n",
    "print(result)\n",
    "\n",
    "#FALSE CONDITION\n",
    "number =13\n",
    "result = re.match(r'^' + str(number), string) is not None\n",
    "print(result)"
   ]
  },
  {
   "cell_type": "code",
   "execution_count": 107,
   "id": "6ece79a1",
   "metadata": {},
   "outputs": [
    {
     "name": "stdout",
     "output_type": "stream",
     "text": [
      "192.1.2.3\n"
     ]
    }
   ],
   "source": [
    "ip = \"192.001.002.003\"\n",
    "output = re.sub(r'(\\b0+(\\d))', r'\\2', ip)\n",
    "print(output)\n"
   ]
  },
  {
   "cell_type": "code",
   "execution_count": 108,
   "id": "d7c7991c",
   "metadata": {},
   "outputs": [
    {
     "name": "stdout",
     "output_type": "stream",
     "text": [
      "None\n",
      "<re.Match object; span=(5, 21), match='August 15th 1947'>\n"
     ]
    }
   ],
   "source": [
    "#positive scenario\n",
    "with open('sample.txt', 'r') as file:\n",
    "    string = file.read()\n",
    "result = re.search(r'([A-Z][a-z]+ \\d{1,2}[a-z]* \\d{4})', string)\n",
    "print(result)\n",
    "\n",
    "\n",
    "#negative scenario\n",
    "with open('sample1.txt', 'r') as file:\n",
    "    string = file.read()\n",
    "result = re.search(r'([A-Z][a-z]+ \\d{1,2}[a-z]* \\d{4})', string)\n",
    "print(result)"
   ]
  },
  {
   "cell_type": "code",
   "execution_count": 109,
   "id": "6d784677",
   "metadata": {},
   "outputs": [
    {
     "name": "stdout",
     "output_type": "stream",
     "text": [
      "['fox', 'dog']\n"
     ]
    }
   ],
   "source": [
    "string = 'The quick brown fox jumps over the lazy dog.'\n",
    "words_to_search = ['fox', 'dog', 'horse']\n",
    "result = re.findall(r'\\b(?:' + '|'.join(re.escape(word) for word in words_to_search) + r')\\b', string)\n",
    "print(result)\n"
   ]
  },
  {
   "cell_type": "code",
   "execution_count": 110,
   "id": "9e73a4c6",
   "metadata": {},
   "outputs": [
    {
     "name": "stdout",
     "output_type": "stream",
     "text": [
      "[('fox', 16)]\n"
     ]
    }
   ],
   "source": [
    "string = 'The quick brown fox jumps over the lazy dog.'\n",
    "word_to_search = 'fox'\n",
    "result = [(match.group(0), match.start()) for match in re.finditer(re.escape(word_to_search), string)]\n",
    "print(result)\n"
   ]
  },
  {
   "cell_type": "code",
   "execution_count": 111,
   "id": "8ba75120",
   "metadata": {},
   "outputs": [
    {
     "name": "stdout",
     "output_type": "stream",
     "text": [
      "['exercises', 'exercises', 'exercises']\n"
     ]
    }
   ],
   "source": [
    "string = 'Python exercises, PHP exercises, C# exercises'\n",
    "pattern = 'exercises'\n",
    "result = re.findall(pattern, string)\n",
    "print(result)\n"
   ]
  },
  {
   "cell_type": "code",
   "execution_count": 112,
   "id": "de54fdc9",
   "metadata": {},
   "outputs": [
    {
     "name": "stdout",
     "output_type": "stream",
     "text": [
      "[('exercises', 7), ('exercises', 22), ('exercises', 36)]\n"
     ]
    }
   ],
   "source": [
    "text = 'Python exercises, PHP exercises, C# exercises'\n",
    "substring = 'exercises'\n",
    "result = [(match.group(0), match.start()) for match in re.finditer(re.escape(substring), text)]\n",
    "print(result)\n"
   ]
  },
  {
   "cell_type": "code",
   "execution_count": 113,
   "id": "e96244ad",
   "metadata": {},
   "outputs": [
    {
     "name": "stdout",
     "output_type": "stream",
     "text": [
      "03-10-2022\n"
     ]
    }
   ],
   "source": [
    "date = \"2022-10-03\"\n",
    "output = re.sub(r'(\\d{4})-(\\d{2})-(\\d{2})', r'\\3-\\2-\\1', date)\n",
    "print(output)\n"
   ]
  },
  {
   "cell_type": "code",
   "execution_count": 114,
   "id": "1161eef0",
   "metadata": {},
   "outputs": [
    {
     "name": "stdout",
     "output_type": "stream",
     "text": [
      "['01.12', '145.8', '3.01', '27.25', '0.25']\n"
     ]
    }
   ],
   "source": [
    "def find_decimal_numbers_with_precision(string):\n",
    "    pattern = re.compile(r'\\b\\d+\\.\\d{1,2}\\b')\n",
    "    numbers = pattern.findall(string)\n",
    "    return numbers\n",
    "\n",
    "string = \"01.12 0132.123 2.31875 145.8 3.01 27.25 0.25\"\n",
    "result = find_decimal_numbers_with_precision(string)\n",
    "print(result)\n"
   ]
  },
  {
   "cell_type": "code",
   "execution_count": 115,
   "id": "344dcd84",
   "metadata": {},
   "outputs": [
    {
     "name": "stdout",
     "output_type": "stream",
     "text": [
      "[('26', 8), ('06', 26), ('1996', 33)]\n"
     ]
    }
   ],
   "source": [
    "string = \"Hi i am 26 years old from 06 Aug 1996.\"\n",
    "result = [(match.group(0), match.start()) for match in re.finditer(r'\\d+', string)]\n",
    "print(result)\n"
   ]
  },
  {
   "cell_type": "code",
   "execution_count": 116,
   "id": "c2b92037",
   "metadata": {},
   "outputs": [
    {
     "name": "stdout",
     "output_type": "stream",
     "text": [
      "950\n"
     ]
    }
   ],
   "source": [
    "def find_largest_numeric_value(string):\n",
    "    numeric_values = re.findall(r'\\d+', string)\n",
    "    if numeric_values:\n",
    "        return max(map(int, numeric_values))\n",
    "    else:\n",
    "        return None\n",
    "\n",
    "string = \"My marks in each semester are: 947, 896, 926, 524, 734, 950, 642\"\n",
    "result = find_largest_numeric_value(string)\n",
    "print(result)\n"
   ]
  },
  {
   "cell_type": "code",
   "execution_count": 117,
   "id": "c0f3782b",
   "metadata": {},
   "outputs": [
    {
     "name": "stdout",
     "output_type": "stream",
     "text": [
      "Regular Expression Is An Important Topic In Python\n"
     ]
    }
   ],
   "source": [
    "def insert_spaces_between_capital_letters(string):\n",
    "    result = re.sub(r'(\\B[A-Z])', r' \\1', string)\n",
    "    return result\n",
    "\n",
    "string = \"RegularExpressionIsAnImportantTopicInPython\"\n",
    "output = insert_spaces_between_capital_letters(string)\n",
    "print(output)\n"
   ]
  },
  {
   "cell_type": "code",
   "execution_count": 118,
   "id": "20d1cd90",
   "metadata": {},
   "outputs": [
    {
     "name": "stdout",
     "output_type": "stream",
     "text": [
      "['Aa', 'Bb', '1', 'Cc', 'Dd', '2', 'Ee', 'Ff', '3']\n"
     ]
    }
   ],
   "source": [
    "string = \"AaBb1CcDd2EeFf3\"\n",
    "result = re.findall(r'[A-Z][a-z]*|[0-9]', string)\n",
    "print(result)\n"
   ]
  },
  {
   "cell_type": "code",
   "execution_count": 119,
   "id": "287beac7",
   "metadata": {},
   "outputs": [
    {
     "name": "stdout",
     "output_type": "stream",
     "text": [
      "Hello hello world\n"
     ]
    }
   ],
   "source": [
    "string = \"Hello hello world world\"\n",
    "output = re.sub(r'\\b(\\w+)\\s+\\1\\b', r'\\1', string)\n",
    "print(output)\n"
   ]
  },
  {
   "cell_type": "code",
   "execution_count": 120,
   "id": "e55eabcd",
   "metadata": {},
   "outputs": [
    {
     "name": "stdout",
     "output_type": "stream",
     "text": [
      "abc123: True\n",
      "hello_world: True\n",
      "12345: True\n",
      "example!@: False\n",
      "ends_alphanumeric1: True\n"
     ]
    }
   ],
   "source": [
    "#positivr scenario\n",
    "test_strings = [\"abc123\", \"hello_world\", \"12345\", \"example!@\", \"ends_alphanumeric1\"]\n",
    "for string in test_strings:\n",
    "    result = re.match(r'.*[a-zA-Z0-9]$', string) is not None\n",
    "    print(f\"{string}: {result}\")"
   ]
  },
  {
   "cell_type": "code",
   "execution_count": 121,
   "id": "e707d049",
   "metadata": {},
   "outputs": [
    {
     "name": "stdout",
     "output_type": "stream",
     "text": [
      "['#Doltiwal', '#xyzabc', '#Demonetization']\n"
     ]
    }
   ],
   "source": [
    "text = \"RT @kapil_kausik: #Doltiwal I mean #xyzabc is 'hurt' by #Demonetization as the same has rendered USELESS.\"\n",
    "result = re.findall(r'#\\w+', text)\n",
    "print(result)\n"
   ]
  },
  {
   "cell_type": "code",
   "execution_count": 122,
   "id": "d10b1500",
   "metadata": {},
   "outputs": [
    {
     "name": "stdout",
     "output_type": "stream",
     "text": [
      "@Jags123456 Bharat band on 28??<ed><ed>Those who  are protesting #demonetization  are all different party leaders\n"
     ]
    }
   ],
   "source": [
    "text = \"@Jags123456 Bharat band on 28??<ed><U+00A0><U+00BD><ed><U+00B8><U+0082>Those who  are protesting #demonetization  are all different party leaders\"\n",
    "output = re.sub(r'<U\\+[\\da-fA-F]+>', '', text)\n",
    "print(output)\n"
   ]
  },
  {
   "cell_type": "code",
   "execution_count": 123,
   "id": "8262eba7",
   "metadata": {},
   "outputs": [
    {
     "name": "stdout",
     "output_type": "stream",
     "text": [
      "['12-09-1992', '15-12-1999']\n"
     ]
    }
   ],
   "source": [
    "with open('sample2.txt', 'r') as file:\n",
    "        string = file.read()\n",
    "        dates = re.findall(r'\\d{2}-\\d{2}-\\d{4}', string)\n",
    "print(dates)\n"
   ]
  },
  {
   "cell_type": "code",
   "execution_count": 124,
   "id": "1d7e1139",
   "metadata": {},
   "outputs": [
    {
     "name": "stdout",
     "output_type": "stream",
     "text": [
      " following example creates  ArrayList  a capacity   elements. 4 elements   added   ArrayList   ArrayList  trimmed accordingly.\n"
     ]
    }
   ],
   "source": [
    "def remove_words_with_length_between_2_and_4(text):\n",
    "    pattern = re.compile(r'\\b\\w{2,4}\\b')\n",
    "    result = pattern.sub('', text)\n",
    "    return result\n",
    "\n",
    "text = \"The following example creates an ArrayList with a capacity of 50 elements. 4 elements are then added to the ArrayList and the ArrayList is trimmed accordingly.\"\n",
    "output = remove_words_with_length_between_2_and_4(text)\n",
    "print(output)\n"
   ]
  },
  {
   "cell_type": "code",
   "execution_count": null,
   "id": "6e0fb34c",
   "metadata": {},
   "outputs": [],
   "source": []
  }
 ],
 "metadata": {
  "kernelspec": {
   "display_name": "Python 3 (ipykernel)",
   "language": "python",
   "name": "python3"
  },
  "language_info": {
   "codemirror_mode": {
    "name": "ipython",
    "version": 3
   },
   "file_extension": ".py",
   "mimetype": "text/x-python",
   "name": "python",
   "nbconvert_exporter": "python",
   "pygments_lexer": "ipython3",
   "version": "3.11.3"
  }
 },
 "nbformat": 4,
 "nbformat_minor": 5
}
